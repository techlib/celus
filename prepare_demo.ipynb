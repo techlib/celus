{
 "cells": [
  {
   "cell_type": "code",
   "execution_count": null,
   "metadata": {
    "pycharm": {
     "is_executing": false,
     "name": "#%%\n"
    }
   },
   "outputs": [],
   "source": [
    "import os\n",
    "\n",
    "os.environ['DJANGO_SETTINGS_MODULE'] = 'config.settings.devel'\n",
    "\n",
    "import django\n",
    "\n",
    "django.setup()\n",
    "\n",
    "from organizations.models import Organization\n",
    "from publications.models import Platform\n",
    "from sushi.models import SushiCredentials\n",
    "from core.models import User\n",
    "\n",
    "platforms_to_keep = [\n",
    " 'ACM Digital Library',\n",
    " 'ACS',\n",
    " 'BioOne',\n",
    " 'CUP',\n",
    " 'DeGruyter',\n",
    " 'EbscoHost',\n",
    " 'IEEE Xplore Digital Library',\n",
    " 'IOPscience',\n",
    " 'JSTOR',\n",
    " 'Nature.com',\n",
    " 'OUP',\n",
    " 'ProQuest',\n",
    " 'ProQuest Ebook Central',\n",
    " 'RSC',\n",
    " 'Sage',\n",
    " 'ScienceDirect',\n",
    " 'Scitation',\n",
    " 'Scopus',\n",
    " 'SpringerLink',\n",
    " 'Taylor & Francis Online',\n",
    " 'Taylor and Francis ebooks',\n",
    " 'Web Of Science',\n",
    " 'Wiley Online Library'\n",
    "]\n",
    "\n",
    "organizations_to_keep = [\n",
    "    'National Library of Technology',\n",
    "    'Library of the Czech Academy of Sciences',\n",
    "    'Czech Technical University in Prague',\n",
    "    'Czech University of Life Sciences Prague',\n",
    "    'Masaryk University',\n",
    "    'Veterinary Research Institute',\n",
    "    'University of Chemistry and Technology,  Prague',\n",
    "]\n",
    "\n",
    "users_to_keep = [\n",
    "    'beda.kosata@gmail.com',\n",
    "]\n",
    "\n",
    "[x.name for x in Organization.objects.all()]\n"
   ]
  },
  {
   "cell_type": "code",
   "execution_count": null,
   "metadata": {
    "pycharm": {
     "is_executing": false,
     "name": "#%%\n"
    }
   },
   "outputs": [],
   "source": [
    "print(SushiCredentials.objects.all().delete())\n",
    "print(Platform.objects.exclude(name__in=platforms_to_keep).delete())\n",
    "# print(Organization.objects.exclude(name__in=organizations_to_keep).delete())\n",
    "print(User.objects.exclude(email__in=users_to_keep).delete())"
   ]
  },
  {
   "cell_type": "code",
   "execution_count": null,
   "metadata": {
    "pycharm": {
     "is_executing": false,
     "name": "#%%\n"
    }
   },
   "outputs": [],
   "source": [
    "from faker import Faker\n",
    "\n",
    "fake = Faker()\n",
    "\n",
    "for org in Organization.objects.all():\n",
    "    name = fake.company()\n",
    "    short_name = ''.join(l for l in name if l.isupper())\n",
    "    org.url = fake.url()\n",
    "    org.name_en = name\n",
    "    org.name_cs = name\n",
    "    org.short_name_cs = short_name\n",
    "    org.short_name_en = short_name\n",
    "    org.ext_id = fake.random_number()\n",
    "    org.internal_id = f'{short_name}-{fake.random_number(digits=4)}'\n",
    "    org.ico = fake.random_number(digits=8, fix_len=False)\n",
    "    org.address = {}\n",
    "    org.fte = fake.random_number(digits=3)\n",
    "    \n",
    "    \n",
    "    org.save()\n",
    "\n",
    "    "
   ]
  },
  {
   "cell_type": "code",
   "execution_count": null,
   "metadata": {
    "pycharm": {
     "is_executing": false,
     "name": "#%%\n"
    }
   },
   "outputs": [],
   "source": [
    "from publications.models import Title\n",
    "from django.db.models import Count\n",
    "\n",
    "Title.objects.annotate(x=Count('platformtitle')).filter(x=0).delete()\n"
   ]
  },
  {
   "cell_type": "code",
   "execution_count": null,
   "metadata": {
    "pycharm": {
     "is_executing": false,
     "name": "#%%\n"
    }
   },
   "outputs": [],
   "source": [
    "from logs.models import AccessLog, ImportBatch\n",
    "\n",
    "print('accesslogs', AccessLog.objects.count())\n",
    "print('batches', ImportBatch.objects.count())\n",
    "\n",
    "ImportBatch.objects.annotate(x=Count('accesslog')).filter(x__gt=0).count()\n"
   ]
  },
  {
   "cell_type": "code",
   "execution_count": null,
   "metadata": {
    "pycharm": {
     "is_executing": false,
     "name": "#%%\n"
    }
   },
   "outputs": [],
   "source": [
    "# prepocitat zajem\n",
    "from logs.logic.materialized_interest import recompute_interest_by_batch\n",
    "\n",
    "recompute_interest_by_batch(ImportBatch.objects.all())"
   ]
  },
  {
   "cell_type": "code",
   "execution_count": null,
   "metadata": {
    "pycharm": {
     "is_executing": false,
     "name": "#%%\n"
    }
   },
   "outputs": [],
   "source": [
    "# smazat annotace, vytvořit nové fakové\n",
    "\n",
    "from annotations.models import Annotation\n",
    "\n",
    "Annotation.objects.all().delete()\n",
    "for i in range(3):\n",
    "    Annotation.objects.create(\n",
    "        organization=fake.random_element(list(Organization.objects.all())+[None]),\n",
    "        platform=fake.random_element(list(Platform.objects.all())+[None]),\n",
    "        subject=fake.sentence(),\n",
    "        message='\\n'.join(fake.paragraphs(nb=2)),\n",
    "        level=fake.random_element([x[0] for x in Annotation.LEVEL_CHOICES])\n",
    "    )"
   ]
  },
  {
   "cell_type": "code",
   "execution_count": null,
   "metadata": {
    "pycharm": {
     "is_executing": false,
     "name": "#%%\n"
    }
   },
   "outputs": [],
   "source": [
    "# smazat sushi task results\n",
    "# smazat errors\n",
    "\n",
    "from django_celery_results.models import TaskResult\n",
    "from error_report.models import Error\n",
    "print(TaskResult.objects.all().delete())\n",
    "print(Error.objects.all().delete())\n"
   ]
  },
  {
   "cell_type": "code",
   "execution_count": null,
   "metadata": {
    "pycharm": {
     "is_executing": false,
     "name": "#%% \n"
    }
   },
   "outputs": [],
   "source": [
    "# accesslogs - fake values\n",
    "\n",
    "als = []\n",
    "for al in AccessLog.objects.all():\n",
    "    offset = fake.random_int(min=1, max=100)\n",
    "    multi = fake.random_int(min=1, max=1000) / 30\n",
    "    al.value = int(al.value * multi) + offset \n",
    "    als.append(als)\n",
    "    \n",
    "AccessLog.objects.bulk_update(als, fields=['value'])\n"
   ]
  },
  {
   "cell_type": "code",
   "execution_count": null,
   "metadata": {
    "pycharm": {
     "is_executing": false,
     "name": "#%%\n"
    }
   },
   "outputs": [],
   "source": [
    "# smazat nebo nejak pozmenit payments\n",
    "\n",
    "from cost.models import Payment\n",
    "\n",
    "payments = []\n",
    "for p in Payment.objects.all():\n",
    "    offset = fake.random_int(min=1, max=100)\n",
    "    multi = fake.random_int(min=1, max=100) / 100\n",
    "    p.price = 10 * (int(p.price * multi) + offset) \n",
    "    payments.append(p)\n",
    "    \n",
    "Payment.objects.bulk_update(payments, fields=['price'])\n"
   ]
  },
  {
   "cell_type": "code",
   "execution_count": null,
   "metadata": {
    "pycharm": {
     "name": "#%%\n"
    }
   },
   "outputs": [],
   "source": [
    "# vytvorit fake sushi credentials\n",
    "\n"
   ]
  }
 ],
 "metadata": {
  "kernelspec": {
   "display_name": "Python 3",
   "language": "python",
   "name": "python3"
  },
  "language_info": {
   "codemirror_mode": {
    "name": "ipython",
    "version": 2
   },
   "file_extension": ".py",
   "mimetype": "text/x-python",
   "name": "python",
   "nbconvert_exporter": "python",
   "pygments_lexer": "ipython2",
   "version": "2.7.6"
  },
  "pycharm": {
   "stem_cell": {
    "cell_type": "raw",
    "metadata": {
     "collapsed": false
    },
    "source": []
   }
  }
 },
 "nbformat": 4,
 "nbformat_minor": 0
}
